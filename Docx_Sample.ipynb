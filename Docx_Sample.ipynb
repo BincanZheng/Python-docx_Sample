{
 "cells": [
  {
   "cell_type": "markdown",
   "metadata": {},
   "source": [
    "# 0 库引用"
   ]
  },
  {
   "cell_type": "code",
   "execution_count": 1,
   "metadata": {},
   "outputs": [],
   "source": [
    "from docx import Document,shared\n",
    "import random"
   ]
  },
  {
   "cell_type": "markdown",
   "metadata": {},
   "source": [
    "# 1 辅助程序"
   ]
  },
  {
   "cell_type": "code",
   "execution_count": 2,
   "metadata": {},
   "outputs": [],
   "source": [
    "class _docx:\n",
    "    def table_reader(table):\n",
    "        table_list = []\n",
    "        for i, row in enumerate(table.rows):   # 读每行\n",
    "            row_content = []\n",
    "            for cell in row.cells:  # 读一行中的所有单元格\n",
    "                c = cell.text\n",
    "                if '\\n' in c: c=c.replace('\\n','') # 删除换行符\n",
    "                row_content.append(c)\n",
    "            table_list.append(row_content)\n",
    "        return  table_list\n",
    "    def table_filler(table,table_list):\n",
    "        for i, row in enumerate(table.rows):    # 读每行\n",
    "            if i==0: continue                   # 跳过首行\n",
    "            for j,cell in enumerate(row.cells): # 读一行中的所有单元格\n",
    "                par = cell.paragraphs[0]\n",
    "                par.text = str(table_list[i][j]) # 写入内容\n",
    "                par.style.name = '表内容'        # 添加样式\n",
    "    def table_transfer(pd_df):\n",
    "        array = np.array(pd_df.reset_index())\n",
    "        array_list = array.tolist()\n",
    "        return array_list\n",
    "    def table_writer(table,pd_df):\n",
    "        table_data = _docx.table_transfer(pd_df)\n",
    "        table_list = _docx.table_reader(table)\n",
    "        table_list[1:] = table_data\n",
    "        _docx.table_filler(table,table_list)"
   ]
  },
  {
   "cell_type": "markdown",
   "metadata": {},
   "source": [
    "# 2 模板读取与内容查看"
   ]
  },
  {
   "cell_type": "markdown",
   "metadata": {},
   "source": [
    "## 2.1 模板读取"
   ]
  },
  {
   "cell_type": "code",
   "execution_count": 3,
   "metadata": {},
   "outputs": [],
   "source": [
    "file = 'Sample_Template.docx'\n",
    "document = Document(file)"
   ]
  },
  {
   "cell_type": "markdown",
   "metadata": {},
   "source": [
    "## 2.2 模板内容查看"
   ]
  },
  {
   "cell_type": "markdown",
   "metadata": {},
   "source": [
    "### 段落内容"
   ]
  },
  {
   "cell_type": "code",
   "execution_count": 4,
   "metadata": {},
   "outputs": [
    {
     "name": "stdout",
     "output_type": "stream",
     "text": [
      "段落0 \n",
      "段落1 \n",
      "段落2 \n",
      "段落3 \n",
      "段落4 \n",
      "段落5 \n",
      "段落6 \n",
      "段落7 \n",
      "段落8 总标题内容\n",
      "段落9 \n",
      "\n",
      "段落10 一、一级标题\n",
      "段落11 1.1 二级标题\n",
      "段落12 正文\n",
      "段落13 1.2 二级标题\n",
      "段落14 正文\n",
      "段落15 二、一级标题\n",
      "段落16 2.1 二级标题\n",
      "段落17 正文，下一段放图（下一段使用图样式）\n",
      "段落18 \n",
      "段落19 2.2 二级标题\n",
      "段落20 \n"
     ]
    }
   ],
   "source": [
    "for i,parag in enumerate(document.paragraphs):\n",
    "    print('段落{}'.format(i),parag.text)"
   ]
  },
  {
   "cell_type": "markdown",
   "metadata": {},
   "source": [
    "### 表格内容"
   ]
  },
  {
   "cell_type": "code",
   "execution_count": 5,
   "metadata": {},
   "outputs": [],
   "source": [
    "table = document.tables[0]"
   ]
  },
  {
   "cell_type": "code",
   "execution_count": 6,
   "metadata": {},
   "outputs": [
    {
     "data": {
      "text/plain": [
       "[['菜名', '酸度', '甜度', '库度', '辣度', '甜辣度', '酸辣度'],\n",
       " ['胡萝卜', '', '', '', '', '', ''],\n",
       " ['马铃薯', '', '', '', '', '', ''],\n",
       " ['小麦', '', '', '', '', '', ''],\n",
       " ['苹果', '', '', '', '', '', ''],\n",
       " ['甜菜', '', '', '', '', '', ''],\n",
       " ['合计', '', '', '', '', '', '']]"
      ]
     },
     "execution_count": 6,
     "metadata": {},
     "output_type": "execute_result"
    }
   ],
   "source": [
    "table_list = _docx.table_reader(table)\n",
    "table_list"
   ]
  },
  {
   "cell_type": "markdown",
   "metadata": {},
   "source": [
    "### 模板样式查询"
   ]
  },
  {
   "cell_type": "code",
   "execution_count": 7,
   "metadata": {},
   "outputs": [
    {
     "name": "stdout",
     "output_type": "stream",
     "text": [
      "PARAGRAPH (1) Normal\n",
      "PARAGRAPH (1) Heading 1\n",
      "PARAGRAPH (1) Heading 2\n",
      "PARAGRAPH (1) Heading 3\n",
      "CHARACTER (2) Default Paragraph Font\n",
      "TABLE (3) Normal Table\n",
      "LIST (4) No List\n",
      "PARAGRAPH (1) 浅色网格 - 着色 31\n",
      "PARAGRAPH (1) Balloon Text\n",
      "CHARACTER (2) 批注框文本 字符\n",
      "PARAGRAPH (1) Title\n",
      "CHARACTER (2) 标题 字符\n",
      "PARAGRAPH (1) Header\n",
      "CHARACTER (2) 页眉 字符\n",
      "PARAGRAPH (1) Footer\n",
      "CHARACTER (2) 页脚 字符\n",
      "PARAGRAPH (1) Document Map\n",
      "CHARACTER (2) 文档结构图 字符\n",
      "TABLE (3) Table Grid\n",
      "CHARACTER (2) 标题 1 字符\n",
      "PARAGRAPH (1) TOC Heading\n",
      "PARAGRAPH (1) toc 2\n",
      "PARAGRAPH (1) toc 1\n",
      "PARAGRAPH (1) toc 3\n",
      "CHARACTER (2) 标题 2 字符\n",
      "CHARACTER (2) 标题 3 字符\n",
      "PARAGRAPH (1) 表内容\n",
      "PARAGRAPH (1) Caption\n",
      "CHARACTER (2) 表内容 字符\n",
      "PARAGRAPH (1) 图&图例\n",
      "CHARACTER (2) 图&图例 字符\n",
      "PARAGRAPH (1) Date\n",
      "CHARACTER (2) 日期 字符\n",
      "PARAGRAPH (1) 总标题\n",
      "CHARACTER (2) 总标题 字符\n"
     ]
    }
   ],
   "source": [
    "for s in document.styles:\n",
    "    print(s.type,s.name)"
   ]
  },
  {
   "cell_type": "markdown",
   "metadata": {},
   "source": [
    "# 3 写入内容"
   ]
  },
  {
   "cell_type": "code",
   "execution_count": 8,
   "metadata": {},
   "outputs": [],
   "source": [
    "i = 8                                                     # 总标题行\n",
    "document.paragraphs[i].text,i = '程序员种菜指南',i+1       # 写入内容，i=i+1\n",
    "i += 1                                                    # 再加一行到标题一行\n",
    "\n",
    "document.paragraphs[i].text,i = '一、程序员为什么种菜',i+1  # 写入内容，i=i+1\n",
    "document.paragraphs[i].text,i = '1.1、种菜的好处',i+1      # 写入内容，i=i+1\n",
    "content = '种菜可以吃。'\n",
    "document.paragraphs[i].text,i = content,i+1               # 写入内容，i=i+1\n",
    "document.paragraphs[i].text,i = '1.2、程序员种菜的好处',i+1 # 写入内容，i=i+1\n",
    "content = '程序员可以批量种菜。'\n",
    "document.paragraphs[i].text,i = content,i+1               # 写入内容，i=i+1\n",
    "\n",
    "document.paragraphs[i].text,i = '二、种菜流程',i+1         # 写入内容，i=i+1\n",
    "document.paragraphs[i].text,i = '2.1、种菜流程图',i+1      # 写入内容，i=i+1\n",
    "content = '程序员种菜主要流程是播种、施肥、浇水和收割。'\n",
    "document.paragraphs[i].text,i = content,i+1               # 写入内容，i=i+1\n",
    "\n",
    "picture = '程序员种菜指南.png'\n",
    "document.paragraphs[i].add_run().add_picture(picture,height=shared.Cm(6),width=shared.Cm(10)) # 在段落内插入图片\n",
    "i += 1\n",
    "\n",
    "document.paragraphs[i].text,i = '2.2、种菜成果表',i+1      # 写入内容，i=i+1\n",
    "\n",
    "for row in range(1,len(table_list)):\n",
    "    for col in range(1,len(table_list[row])):\n",
    "        table_list[row][col] = random.randint(0,10)       # 程序员'收集'并填写结果\n",
    "_docx.table_filler(table,table_list)                      # 将结果写入表格"
   ]
  },
  {
   "cell_type": "markdown",
   "metadata": {},
   "source": [
    "# 4 保存文件"
   ]
  },
  {
   "cell_type": "code",
   "execution_count": 9,
   "metadata": {},
   "outputs": [],
   "source": [
    "document.save('Sample_Result.docx')"
   ]
  },
  {
   "cell_type": "code",
   "execution_count": null,
   "metadata": {},
   "outputs": [],
   "source": []
  }
 ],
 "metadata": {
  "kernelspec": {
   "display_name": "Python 3",
   "language": "python",
   "name": "python3"
  },
  "language_info": {
   "codemirror_mode": {
    "name": "ipython",
    "version": 3
   },
   "file_extension": ".py",
   "mimetype": "text/x-python",
   "name": "python",
   "nbconvert_exporter": "python",
   "pygments_lexer": "ipython3",
   "version": "3.8.5"
  }
 },
 "nbformat": 4,
 "nbformat_minor": 4
}
